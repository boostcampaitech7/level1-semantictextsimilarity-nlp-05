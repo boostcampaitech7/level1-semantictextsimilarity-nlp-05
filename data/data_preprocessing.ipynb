{
 "cells": [
  {
   "cell_type": "code",
   "execution_count": 2,
   "metadata": {},
   "outputs": [
    {
     "name": "stdout",
     "output_type": "stream",
     "text": [
      "<class 'pandas.core.frame.DataFrame'>\n",
      "Int64Index: 9874 entries, 0 to 549\n",
      "Data columns (total 6 columns):\n",
      " #   Column        Non-Null Count  Dtype  \n",
      "---  ------        --------------  -----  \n",
      " 0   id            9874 non-null   object \n",
      " 1   source        9874 non-null   object \n",
      " 2   sentence_1    9874 non-null   object \n",
      " 3   sentence_2    9874 non-null   object \n",
      " 4   label         9874 non-null   float64\n",
      " 5   binary-label  9874 non-null   float64\n",
      "dtypes: float64(2), object(4)\n",
      "memory usage: 540.0+ KB\n"
     ]
    }
   ],
   "source": [
    "import pandas as pd\n",
    "from hanspell import spell_checker\n",
    "from soynlp.normalizer import repeat_normalize\n",
    "\n",
    "def safe_spell_checker(text):\n",
    "    try:\n",
    "        return spell_checker.check(text).checked\n",
    "    except:\n",
    "        return text\n",
    "\n",
    "df_train = pd.read_csv('./data/train.csv')\n",
    "df_dev = pd.read_csv('./data/dev.csv')\n",
    "\n",
    "df = pd.concat([df_train, df_dev])\n",
    "df.info()"
   ]
  },
  {
   "cell_type": "code",
   "execution_count": 4,
   "metadata": {},
   "outputs": [],
   "source": [
    "from soynlp.normalizer import emoticon_normalize\n",
    "import re \n",
    "def preproecssing_text(text):\n",
    "    \"\"\"\n",
    "    reference: https://github.com/boostcampaitech6/level1-semantictextsimilarity-nlp-03/blob/main/augmentation.py\n",
    "    \n",
    "    \"\"\"\n",
    "    text = emoticon_normalize(text, num_repeats=2)\n",
    "    text = repeat_normalize(text, num_repeats=2)\n",
    "    text = text.lower()\n",
    "    text = re.sub(r'[^a-z0-9ㄱ-ㅎㅏ-ㅣ가-힣 ?!<>\\\"\\']', '', text)\n",
    "    text.strip()\n",
    "    text = safe_spell_checker(text)\n",
    "    return text\n"
   ]
  },
  {
   "cell_type": "code",
   "execution_count": 8,
   "metadata": {},
   "outputs": [
    {
     "name": "stderr",
     "output_type": "stream",
     "text": [
      "\n",
      "TqdmDeprecationWarning: Please use `tqdm.pandas(...)` instead of `tqdm_pandas(tqdm(...))`.\n",
      "0it [00:28, ?it/s]\n"
     ]
    }
   ],
   "source": [
    "from tqdm import tqdm, tqdm_pandas \n",
    "tqdm_pandas(tqdm())\n",
    "df_tmp = df.copy()\n",
    "df_tmp['sentence_1'] = df_tmp['sentence_1'].apply(preproecssing_text)\n",
    "df_tmp['sentence_2'] = df_tmp['sentence_2'].apply(preproecssing_text)"
   ]
  },
  {
   "cell_type": "code",
   "execution_count": 9,
   "metadata": {},
   "outputs": [
    {
     "data": {
      "text/plain": [
       "<AxesSubplot:xlabel='label', ylabel='count'>"
      ]
     },
     "execution_count": 9,
     "metadata": {},
     "output_type": "execute_result"
    },
    {
     "data": {
      "image/png": "[encoded data removed]",
      "text/plain": [
       "<Figure size 1000x600 with 1 Axes>"
      ]
     },
     "metadata": {},
     "output_type": "display_data"
    }
   ],
   "source": [
    "import matplotlib.pyplot as plt\n",
    "import seaborn as sns\n",
    "\n",
    "plt.figure(figsize=(10,6))\n",
    "sns.countplot(data = df,x = 'label')"
   ]
  },
  {
   "cell_type": "code",
   "execution_count": 10,
   "metadata": {},
   "outputs": [
    {
     "name": "stdout",
     "output_type": "stream",
     "text": [
      "<class 'pandas.core.frame.DataFrame'>\n",
      "Int64Index: 9874 entries, 0 to 549\n",
      "Data columns (total 6 columns):\n",
      " #   Column        Non-Null Count  Dtype  \n",
      "---  ------        --------------  -----  \n",
      " 0   id            9874 non-null   object \n",
      " 1   source        9874 non-null   object \n",
      " 2   sentence_1    9874 non-null   object \n",
      " 3   sentence_2    9874 non-null   object \n",
      " 4   label         9874 non-null   float64\n",
      " 5   binary-label  9874 non-null   float64\n",
      "dtypes: float64(2), object(4)\n",
      "memory usage: 540.0+ KB\n"
     ]
    }
   ],
   "source": [
    "df_tmp.info()"
   ]
  },
  {
   "cell_type": "code",
   "execution_count": 11,
   "metadata": {},
   "outputs": [
    {
     "name": "stdout",
     "output_type": "stream",
     "text": [
      "<class 'pandas.core.frame.DataFrame'>\n",
      "Int64Index: 8745 entries, 0 to 549\n",
      "Data columns (total 6 columns):\n",
      " #   Column        Non-Null Count  Dtype  \n",
      "---  ------        --------------  -----  \n",
      " 0   id            8745 non-null   object \n",
      " 1   source        8745 non-null   object \n",
      " 2   sentence_1    8745 non-null   object \n",
      " 3   sentence_2    8745 non-null   object \n",
      " 4   label         8745 non-null   float64\n",
      " 5   binary-label  8745 non-null   float64\n",
      "dtypes: float64(2), object(4)\n",
      "memory usage: 478.2+ KB\n"
     ]
    }
   ],
   "source": [
    "#  drop half of the label 0\n",
    "df_label0 = df_tmp[df_tmp['label'] == 0].sample(frac=0.5, random_state=42)\n",
    "df_tmp.drop(df_label0.index, inplace=True)\n",
    "df_tmp.info()"
   ]
  },
  {
   "cell_type": "code",
   "execution_count": 12,
   "metadata": {},
   "outputs": [],
   "source": [
    "# validation data\n",
    "df_val = df_tmp.sample(frac=0.2, random_state=42)\n",
    "df_train = df_tmp.drop(df_val.index)\n"
   ]
  },
  {
   "cell_type": "code",
   "execution_count": 14,
   "metadata": {},
   "outputs": [
    {
     "name": "stdout",
     "output_type": "stream",
     "text": [
      "<class 'pandas.core.frame.DataFrame'>\n",
      "Int64Index: 1749 entries, 1159 to 8988\n",
      "Data columns (total 6 columns):\n",
      " #   Column        Non-Null Count  Dtype  \n",
      "---  ------        --------------  -----  \n",
      " 0   id            1749 non-null   object \n",
      " 1   source        1749 non-null   object \n",
      " 2   sentence_1    1749 non-null   object \n",
      " 3   sentence_2    1749 non-null   object \n",
      " 4   label         1749 non-null   float64\n",
      " 5   binary-label  1749 non-null   float64\n",
      "dtypes: float64(2), object(4)\n",
      "memory usage: 95.6+ KB\n"
     ]
    }
   ],
   "source": [
    "df_val.info()"
   ]
  },
  {
   "cell_type": "code",
   "execution_count": 15,
   "metadata": {},
   "outputs": [
    {
     "name": "stdout",
     "output_type": "stream",
     "text": [
      "<class 'pandas.core.frame.DataFrame'>\n",
      "Int64Index: 6822 entries, 1 to 549\n",
      "Data columns (total 6 columns):\n",
      " #   Column        Non-Null Count  Dtype  \n",
      "---  ------        --------------  -----  \n",
      " 0   id            6822 non-null   object \n",
      " 1   source        6822 non-null   object \n",
      " 2   sentence_1    6822 non-null   object \n",
      " 3   sentence_2    6822 non-null   object \n",
      " 4   label         6822 non-null   float64\n",
      " 5   binary-label  6822 non-null   float64\n",
      "dtypes: float64(2), object(4)\n",
      "memory usage: 373.1+ KB\n"
     ]
    }
   ],
   "source": [
    "df_train.info()"
   ]
  },
  {
   "cell_type": "code",
   "execution_count": 16,
   "metadata": {},
   "outputs": [
    {
     "name": "stdout",
     "output_type": "stream",
     "text": [
      "<class 'pandas.core.frame.DataFrame'>\n",
      "Int64Index: 8571 entries, 1 to 8988\n",
      "Data columns (total 6 columns):\n",
      " #   Column        Non-Null Count  Dtype  \n",
      "---  ------        --------------  -----  \n",
      " 0   id            8571 non-null   object \n",
      " 1   source        8571 non-null   object \n",
      " 2   sentence_1    8571 non-null   object \n",
      " 3   sentence_2    8571 non-null   object \n",
      " 4   label         8571 non-null   float64\n",
      " 5   binary-label  8571 non-null   float64\n",
      "dtypes: float64(2), object(4)\n",
      "memory usage: 468.7+ KB\n"
     ]
    }
   ],
   "source": [
    "df_tmp = pd.concat([df_train, df_val])\n",
    "df_tmp.info()"
   ]
  },
  {
   "cell_type": "code",
   "execution_count": 17,
   "metadata": {},
   "outputs": [],
   "source": [
    "df_train.to_csv('./data/train_preprocessed.csv', index=False)\n",
    "df_val.to_csv('./data/val_preprocessed.csv', index=False)"
   ]
  },
  {
   "cell_type": "code",
   "execution_count": 18,
   "metadata": {},
   "outputs": [
    {
     "name": "stdout",
     "output_type": "stream",
     "text": [
      "<class 'pandas.core.frame.DataFrame'>\n",
      "Int64Index: 12809 entries, 1 to 549\n",
      "Data columns (total 6 columns):\n",
      " #   Column        Non-Null Count  Dtype  \n",
      "---  ------        --------------  -----  \n",
      " 0   id            12809 non-null  object \n",
      " 1   source        12809 non-null  object \n",
      " 2   sentence_1    12809 non-null  object \n",
      " 3   sentence_2    12809 non-null  object \n",
      " 4   label         12809 non-null  float64\n",
      " 5   binary-label  12809 non-null  float64\n",
      "dtypes: float64(2), object(4)\n",
      "memory usage: 700.5+ KB\n"
     ]
    }
   ],
   "source": [
    "# swap sentence_1 and sentence_2 for data augmentation label > 0\n",
    "df_tmp = df_train[df_train['label'] > 0].copy()\n",
    "df_tmp['sentence_1'], df_tmp['sentence_2'] = df_tmp['sentence_2'], df_tmp['sentence_1']\n",
    "df_train = pd.concat([df_train, df_tmp])\n",
    "df_train.info()"
   ]
  },
  {
   "cell_type": "code",
   "execution_count": 19,
   "metadata": {},
   "outputs": [
    {
     "data": {
      "text/plain": [
       "<AxesSubplot:xlabel='label', ylabel='count'>"
      ]
     },
     "execution_count": 19,
     "metadata": {},
     "output_type": "execute_result"
    },
    {
     "data": {
      "image/png": "[encoded data removed]",
      "text/plain": [
       "<Figure size 1000x600 with 1 Axes>"
      ]
     },
     "metadata": {},
     "output_type": "display_data"
    }
   ],
   "source": [
    "plt.figure(figsize=(10,6))\n",
    "sns.countplot(data = df_train,x = 'label')"
   ]
  },
  {
   "cell_type": "code",
   "execution_count": 20,
   "metadata": {},
   "outputs": [
    {
     "name": "stdout",
     "output_type": "stream",
     "text": [
      "<class 'pandas.core.frame.DataFrame'>\n",
      "Int64Index: 13109 entries, 1 to 7166\n",
      "Data columns (total 6 columns):\n",
      " #   Column        Non-Null Count  Dtype  \n",
      "---  ------        --------------  -----  \n",
      " 0   id            13109 non-null  object \n",
      " 1   source        13109 non-null  object \n",
      " 2   sentence_1    13109 non-null  object \n",
      " 3   sentence_2    13109 non-null  object \n",
      " 4   label         13109 non-null  float64\n",
      " 5   binary-label  13109 non-null  float64\n",
      "dtypes: float64(2), object(4)\n",
      "memory usage: 716.9+ KB\n"
     ]
    }
   ],
   "source": [
    "#from df_label0, get 300 data and make sentence_1 and sentence_2 to be equal\n",
    "df_tmp = df_label0.sample(n=300, random_state=42)\n",
    "df_tmp['sentence_2'] = df_tmp['sentence_1']\n",
    "df_train = pd.concat([df_train, df_tmp])\n",
    "df_train.info()"
   ]
  },
  {
   "cell_type": "code",
   "execution_count": 23,
   "metadata": {},
   "outputs": [
    {
     "name": "stdout",
     "output_type": "stream",
     "text": [
      "<class 'pandas.core.frame.DataFrame'>\n",
      "Int64Index: 13109 entries, 1 to 7166\n",
      "Data columns (total 6 columns):\n",
      " #   Column        Non-Null Count  Dtype  \n",
      "---  ------        --------------  -----  \n",
      " 0   id            13109 non-null  object \n",
      " 1   source        13109 non-null  object \n",
      " 2   sentence_1    13109 non-null  object \n",
      " 3   sentence_2    13109 non-null  object \n",
      " 4   label         13109 non-null  float64\n",
      " 5   binary-label  13109 non-null  float64\n",
      "dtypes: float64(2), object(4)\n",
      "memory usage: 716.9+ KB\n"
     ]
    },
    {
     "data": {
      "text/plain": [
       "<AxesSubplot:xlabel='label', ylabel='count'>"
      ]
     },
     "execution_count": 23,
     "metadata": {},
     "output_type": "execute_result"
    },
    {
     "data": {
      "image/png": "[encoded data removed]",
      "text/plain": [
       "<Figure size 1000x600 with 1 Axes>"
      ]
     },
     "metadata": {},
     "output_type": "display_data"
    }
   ],
   "source": [
    "df_tmp['label'] = 5.0\n",
    "df_train = pd.concat([df_train, df_tmp])\n",
    "df_train.info()\n",
    "plt.figure(figsize=(10,6))\n",
    "sns.countplot(data = df_train,x = 'label')"
   ]
  },
  {
   "cell_type": "code",
   "execution_count": 24,
   "metadata": {},
   "outputs": [
    {
     "name": "stdout",
     "output_type": "stream",
     "text": [
      "<class 'pandas.core.frame.DataFrame'>\n",
      "Int64Index: 13259 entries, 1 to 2479\n",
      "Data columns (total 6 columns):\n",
      " #   Column        Non-Null Count  Dtype  \n",
      "---  ------        --------------  -----  \n",
      " 0   id            13259 non-null  object \n",
      " 1   source        13259 non-null  object \n",
      " 2   sentence_1    13259 non-null  object \n",
      " 3   sentence_2    13259 non-null  object \n",
      " 4   label         13259 non-null  float64\n",
      " 5   binary-label  13259 non-null  float64\n",
      "dtypes: float64(2), object(4)\n",
      "memory usage: 725.1+ KB\n"
     ]
    },
    {
     "data": {
      "text/plain": [
       "<AxesSubplot:xlabel='label', ylabel='count'>"
      ]
     },
     "execution_count": 24,
     "metadata": {},
     "output_type": "execute_result"
    },
    {
     "data": {
      "image/png": "[encoded data removed]",
      "text/plain": [
       "<Figure size 1000x600 with 1 Axes>"
      ]
     },
     "metadata": {},
     "output_type": "display_data"
    }
   ],
   "source": [
    "df_tmp = df_label0.sample(n=150, random_state=42)\n",
    "df_tmp['sentence_1'] = df_tmp['sentence_2']\n",
    "df_tmp['label'] = 5.0\n",
    "df_train = pd.concat([df_train, df_tmp])\n",
    "df_train.info()\n",
    "plt.figure(figsize=(10,6))\n",
    "sns.countplot(data = df_train,x = 'label')"
   ]
  },
  {
   "cell_type": "code",
   "execution_count": 25,
   "metadata": {},
   "outputs": [],
   "source": [
    "df_train.to_csv('./data/train_preprocessed_augmented.csv', index=False)"
   ]
  },
  {
   "cell_type": "code",
   "execution_count": 26,
   "metadata": {},
   "outputs": [
    {
     "data": {
      "text/plain": [
       "'결사반대!!!!!!!!!!!!!!!!'"
      ]
     },
     "execution_count": 26,
     "metadata": {},
     "output_type": "execute_result"
    }
   ],
   "source": [
    "emoticon_normalize(\"결사반대!!!!!!!!!!!!!!!!\", num_repeats=2)\n"
   ]
  },
  {
   "cell_type": "code",
   "execution_count": 27,
   "metadata": {},
   "outputs": [
    {
     "data": {
      "text/plain": [
       "'결사반대!!!!!!!!!!!!!!!!'"
      ]
     },
     "execution_count": 27,
     "metadata": {},
     "output_type": "execute_result"
    }
   ],
   "source": [
    "repeat_normalize(\"결사반대!!!!!!!!!!!!!!!!\", num_repeats=2)"
   ]
  },
  {
   "cell_type": "code",
   "execution_count": 32,
   "metadata": {},
   "outputs": [],
   "source": [
    "def reduce_repeated_chars(text, chars='?!<>.,', max_repeat=2):\n",
    "    \n",
    "    escaped_chars = re.escape(chars)\n",
    "    pattern = f'([{escaped_chars}])\\\\1{{{max_repeat},}}'\n",
    "    return re.sub(pattern, lambda m: m.group(1) * max_repeat, text)\n"
   ]
  },
  {
   "cell_type": "code",
   "execution_count": 33,
   "metadata": {},
   "outputs": [],
   "source": [
    "# reduce repeated chars train,val data\n",
    "df_train = pd.read_csv('./data/train_preprocessed_augmented.csv')\n",
    "df_val = pd.read_csv('./data/val_preprocessed.csv')\n",
    "df_train['sentence_1'] = df_train['sentence_1'].apply(reduce_repeated_chars)\n",
    "df_train['sentence_2'] = df_train['sentence_2'].apply(reduce_repeated_chars)\n",
    "df_val['sentence_1'] = df_val['sentence_1'].apply(reduce_repeated_chars)\n",
    "df_val['sentence_2'] = df_val['sentence_2'].apply(reduce_repeated_chars)"
   ]
  },
  {
   "cell_type": "code",
   "execution_count": 34,
   "metadata": {},
   "outputs": [],
   "source": [
    "df_train.to_csv('./data/train_preprocessed_augmented.csv', index=False)\n",
    "df_val.to_csv('./data/val_preprocessed.csv', index=False)"
   ]
  },
  {
   "cell_type": "code",
   "execution_count": 35,
   "metadata": {},
   "outputs": [],
   "source": [
    "# preprocess test data\n",
    "df_test = pd.read_csv('./data/test.csv')\n",
    "df_test['sentence_1'] = df_test['sentence_1'].apply(preproecssing_text)\n",
    "df_test['sentence_2'] = df_test['sentence_2'].apply(preproecssing_text)\n",
    "df_test['sentence_1'] = df_test['sentence_1'].apply(reduce_repeated_chars)\n",
    "df_test['sentence_2'] = df_test['sentence_2'].apply(reduce_repeated_chars)\n",
    "df_test.to_csv('./data/test_preprocessed.csv', index=False)"
   ]
  }
 ],
 "metadata": {
  "kernelspec": {
   "display_name": "usual_torch",
   "language": "python",
   "name": "python3"
  },
  "language_info": {
   "codemirror_mode": {
    "name": "ipython",
    "version": 3
   },
   "file_extension": ".py",
   "mimetype": "text/x-python",
   "name": "python",
   "nbconvert_exporter": "python",
   "pygments_lexer": "ipython3",
   "version": "3.8.13"
  }
 },
 "nbformat": 4,
 "nbformat_minor": 2
}
